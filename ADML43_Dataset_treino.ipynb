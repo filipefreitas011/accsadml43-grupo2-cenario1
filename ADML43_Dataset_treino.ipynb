{
 "cells": [
  {
   "cell_type": "code",
   "execution_count": 1,
   "id": "0e1a8bcd-aee7-4114-91ef-df1620f5a26f",
   "metadata": {},
   "outputs": [],
   "source": [
    "import pandas as pd\n",
    "import numpy as np\n",
    "import matplotlib.pyplot as plt\n",
    "import seaborn as sns\n",
    "\n",
    "import sklearn\n",
    "\n",
    "import warnings\n",
    "warnings.filterwarnings('ignore', category=UserWarning, module='openpyxl')\n",
    "\n",
    "import joblib"
   ]
  },
  {
   "cell_type": "markdown",
   "id": "62420793-dab2-4e52-850e-01d13d1a6cf3",
   "metadata": {},
   "source": [
    "# 1. Importa as Bases de dados do treino e do teste ADML43_Dataset_1"
   ]
  },
  {
   "cell_type": "markdown",
   "id": "18727795-307e-450b-be66-e498957cacda",
   "metadata": {},
   "source": [
    "# 1.1. Importa as Base de dados do treino"
   ]
  },
  {
   "cell_type": "code",
   "execution_count": 4,
   "id": "4f5a07f6-1269-4ffc-8e8d-1097922592c1",
   "metadata": {},
   "outputs": [],
   "source": [
    "X_train = pd.read_csv('X_train.csv')\n",
    "y_train = pd.read_csv('y_train.csv')\n",
    "X_cv = pd.read_csv('X_cv.csv')\n",
    "y_cv = pd.read_csv('y_cv.csv')"
   ]
  },
  {
   "cell_type": "markdown",
   "id": "0bae393f",
   "metadata": {},
   "source": [
    "# 1.2. Importa a Base de dados do teste ADML43_Dataset_1"
   ]
  },
  {
   "cell_type": "code",
   "execution_count": 6,
   "id": "a1757e4c-5161-455a-a2da-991cd51e601d",
   "metadata": {},
   "outputs": [],
   "source": [
    "# Carrega a base de testes ADML43_Dataset_1\n",
    "base_teste = pd.read_csv('dataset1_teste.csv')  \n",
    "\n",
    "# Separa as características e o alvo da base de testes ADML43_Dataset_1\n",
    "X_teste = base_teste.drop(columns=['CLASSI_FIN_BINARIO'])\n",
    "y_teste = base_teste['CLASSI_FIN_BINARIO']"
   ]
  },
  {
   "cell_type": "code",
   "execution_count": 13,
   "id": "2eba96e1-d128-4ac8-9b9e-418e032037ed",
   "metadata": {},
   "outputs": [],
   "source": [
    "# Inclui colunas que faltam no conjunto de teste com valor Nan\n",
    "for coluna in X_train.columns:\n",
    "    if coluna not in X_teste.columns:\n",
    "        X_teste[coluna] = pd.NA"
   ]
  },
  {
   "cell_type": "code",
   "execution_count": 15,
   "id": "7547625d-566f-4230-adcc-6a0d699549ab",
   "metadata": {},
   "outputs": [],
   "source": [
    "# Remove colunas que não estão na base de treino do conjunto de teste ADML43_Dataset_1\n",
    "X_teste = X_teste[X_train.columns]"
   ]
  },
  {
   "cell_type": "code",
   "execution_count": 17,
   "id": "68cbc45f-d519-420b-9f57-b446310dc557",
   "metadata": {},
   "outputs": [],
   "source": [
    "# Remove colunas com todos os valores nulos\n",
    "X_teste = X_teste.dropna(axis=1, how='all')"
   ]
  },
  {
   "cell_type": "code",
   "execution_count": 19,
   "id": "6ce6531b-b5ab-493a-a016-479a2ee1ac7d",
   "metadata": {},
   "outputs": [],
   "source": [
    "# Remove colunas que não estão na base de teste ADML43_Dataset_1 do conjunto de treino\n",
    "X_train = X_train[X_teste.columns]"
   ]
  },
  {
   "cell_type": "markdown",
   "id": "69066fbc-7cdf-485c-a5bf-76f09c032b17",
   "metadata": {},
   "source": [
    "# 2. Algoritmos"
   ]
  },
  {
   "cell_type": "markdown",
   "id": "74c20294-9580-4e97-9890-05d1e0625dd1",
   "metadata": {},
   "source": [
    "# 2.1. K-Nearest Neighbors (KNN)"
   ]
  },
  {
   "cell_type": "code",
   "execution_count": null,
   "id": "2ad7117c-f529-4789-8275-e55cec2b3dd1",
   "metadata": {},
   "outputs": [
    {
     "name": "stdout",
     "output_type": "stream",
     "text": [
      "Profundidade máxima com melhor desempenho: {'n_neighbors': 23}\n",
      "*********************************************\n"
     ]
    }
   ],
   "source": [
    "#carrega o modelo KNN treinado\n",
    "knn = joblib.load('knn_model.pkl')\n",
    "\n",
    "\n",
    "# Faz previsões no conjunto de teste ADML43_Dataset_1\n",
    "knn_pred = knn.predict(X_teste)\n",
    "\n",
    "# Avaliação do modelo KNN\n",
    "acurácia_knn = accuracy_score(y_teste, knn_pred)\n",
    "p_knn = precision_score(y_teste, knn_pred, average='macro', zero_division=0)\n",
    "r_knn = recall_score(y_teste, knn_pred, average='macro')\n",
    "f1_knn = f1_score(y_teste, knn_pred, average='macro', zero_division=0)\n",
    "\n",
    "print(\"Acurácia\", acurácia_knn)\n",
    "print(\"Precisão:\", p_knn)\n",
    "print(\"Recall:\", r_knn)\n",
    "print(\"F1-score:\", f1_knn)\n",
    "\n",
    "# Calcula a matriz de confusão KNN\n",
    "cmKNN = confusion_matrix(y_teste, knn_pred)\n",
    "\n",
    "# Define rótulos para os eixos\n",
    "labels = ['Negativo', 'Dengue']\n",
    "\n",
    "ConfusionMatrixDisplay(cmKNN, display_labels=labels).plot(values_format='d')\n",
    "plt.grid(False)\n",
    "\n",
    "# Adiciona eixos e title\n",
    "plt.xlabel(\"Previsto\")\n",
    "plt.ylabel(\"Verdadeiro\")\n",
    "plt.title(\"Matriz de Confusão-KNN\")\n",
    "plt.tight_layout()\n",
    "\n",
    "# Printando as métricas de precision, recall e f1-score\n",
    "print(classification_report(y_teste, knn_pred))"
   ]
  },
  {
   "cell_type": "markdown",
   "id": "57d2fca1-4b5e-441c-9ded-0f6cbc816d58",
   "metadata": {},
   "source": [
    "# 2.2. Árvore de Decisão"
   ]
  },
  {
   "cell_type": "markdown",
   "id": "4c058de4-713c-4e1b-96da-6d0ca4700f35",
   "metadata": {},
   "source": [
    "# 2.3. Rede Neural (Multilayer Perceptron - MLP)"
   ]
  },
  {
   "cell_type": "markdown",
   "id": "36d4344d-110b-46a9-ad04-09e965d1c78c",
   "metadata": {},
   "source": [
    "# 2.4. Logistic Regression (Regressão Logística)"
   ]
  },
  {
   "cell_type": "markdown",
   "id": "3b9f07ac-b4c2-4e30-bce6-be67920610c3",
   "metadata": {},
   "source": [
    "# 2.5. Random Forest (Floresta Aleatória)"
   ]
  },
  {
   "cell_type": "markdown",
   "id": "c4e259c7-d0bf-4aa6-a242-6de7ce6534dd",
   "metadata": {},
   "source": [
    "# 3. Importa a Base de dados do teste ADML43_Dataset_2"
   ]
  },
  {
   "cell_type": "code",
   "execution_count": null,
   "id": "d6307ba8-e154-41b6-a759-75ad53dbd0e3",
   "metadata": {},
   "outputs": [],
   "source": []
  }
 ],
 "metadata": {
  "kernelspec": {
   "display_name": "Python 3 (ipykernel)",
   "language": "python",
   "name": "python3"
  },
  "language_info": {
   "codemirror_mode": {
    "name": "ipython",
    "version": 3
   },
   "file_extension": ".py",
   "mimetype": "text/x-python",
   "name": "python",
   "nbconvert_exporter": "python",
   "pygments_lexer": "ipython3",
   "version": "3.11.7"
  }
 },
 "nbformat": 4,
 "nbformat_minor": 5
}
