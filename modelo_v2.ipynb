{
 "cells": [
  {
   "cell_type": "code",
   "execution_count": 555,
   "metadata": {},
   "outputs": [],
   "source": [
    "import pandas as pd\n",
    "import numpy as np\n",
    "import matplotlib.pyplot as plt\n",
    "import seaborn as sns\n",
    "\n",
    "import sklearn\n",
    "from sklearn.model_selection import train_test_split\n",
    "from sklearn.neighbors import KNeighborsClassifier\n",
    "from sklearn import tree\n",
    "from sklearn.linear_model import LogisticRegression\n",
    "from sklearn.metrics import accuracy_score, precision_score, recall_score, f1_score, confusion_matrix\n",
    "from sklearn.model_selection import cross_val_predict\n",
    "from sklearn.neural_network import MLPClassifier\n",
    "plt.style.use('ggplot')\n",
    "\n",
    "import warnings\n",
    "warnings.filterwarnings('ignore', category=UserWarning, module='openpyxl')"
   ]
  },
  {
   "cell_type": "code",
   "execution_count": 556,
   "metadata": {},
   "outputs": [],
   "source": [
    "# Carregar o arquivo CSV\n",
    "df = pd.read_csv('dengue_sinan.csv', low_memory=False)"
   ]
  },
  {
   "cell_type": "code",
   "execution_count": 557,
   "metadata": {},
   "outputs": [
    {
     "data": {
      "text/html": [
       "<div>\n",
       "<style scoped>\n",
       "    .dataframe tbody tr th:only-of-type {\n",
       "        vertical-align: middle;\n",
       "    }\n",
       "\n",
       "    .dataframe tbody tr th {\n",
       "        vertical-align: top;\n",
       "    }\n",
       "\n",
       "    .dataframe thead th {\n",
       "        text-align: right;\n",
       "    }\n",
       "</style>\n",
       "<table border=\"1\" class=\"dataframe\">\n",
       "  <thead>\n",
       "    <tr style=\"text-align: right;\">\n",
       "      <th></th>\n",
       "      <th>NU_NOTIFIC</th>\n",
       "      <th>TP_NOT</th>\n",
       "      <th>ID_AGRAVO</th>\n",
       "      <th>DT_NOTIFIC</th>\n",
       "      <th>SEM_NOT</th>\n",
       "      <th>NU_ANO</th>\n",
       "      <th>SG_UF_NOT</th>\n",
       "      <th>ID_MUNICIP</th>\n",
       "      <th>ID_REGIONA</th>\n",
       "      <th>ID_UNIDADE</th>\n",
       "      <th>...</th>\n",
       "      <th>DT_TRANSRM</th>\n",
       "      <th>DT_TRANSRS</th>\n",
       "      <th>DT_TRANSSE</th>\n",
       "      <th>NU_LOTE_V</th>\n",
       "      <th>NU_LOTE_H</th>\n",
       "      <th>CS_FLXRET</th>\n",
       "      <th>FLXRECEBI</th>\n",
       "      <th>IDENT_MICR</th>\n",
       "      <th>MIGRADO_W</th>\n",
       "      <th>ID_CNS_SUS_HASHED</th>\n",
       "    </tr>\n",
       "  </thead>\n",
       "  <tbody>\n",
       "    <tr>\n",
       "      <th>0</th>\n",
       "      <td>158</td>\n",
       "      <td>2</td>\n",
       "      <td>A90</td>\n",
       "      <td>2016-03-05</td>\n",
       "      <td>201609</td>\n",
       "      <td>2016</td>\n",
       "      <td>29</td>\n",
       "      <td>292210</td>\n",
       "      <td>1381.0</td>\n",
       "      <td>2498731.0</td>\n",
       "      <td>...</td>\n",
       "      <td>NaN</td>\n",
       "      <td>NaN</td>\n",
       "      <td>NaN</td>\n",
       "      <td>NaN</td>\n",
       "      <td>NaN</td>\n",
       "      <td>0.0</td>\n",
       "      <td>NaN</td>\n",
       "      <td>4.0</td>\n",
       "      <td>NaN</td>\n",
       "      <td>9b2d5b4678781e53038e91ea5324530a03f27dc1d0e5f6...</td>\n",
       "    </tr>\n",
       "    <tr>\n",
       "      <th>1</th>\n",
       "      <td>298</td>\n",
       "      <td>2</td>\n",
       "      <td>A90</td>\n",
       "      <td>2016-02-15</td>\n",
       "      <td>201607</td>\n",
       "      <td>2016</td>\n",
       "      <td>29</td>\n",
       "      <td>293290</td>\n",
       "      <td>1385.0</td>\n",
       "      <td>3280969.0</td>\n",
       "      <td>...</td>\n",
       "      <td>NaN</td>\n",
       "      <td>NaN</td>\n",
       "      <td>NaN</td>\n",
       "      <td>NaN</td>\n",
       "      <td>NaN</td>\n",
       "      <td>0.0</td>\n",
       "      <td>NaN</td>\n",
       "      <td>4.0</td>\n",
       "      <td>NaN</td>\n",
       "      <td>ebc774c2fc9be73f8d403772dc14539dbe6e448e117f62...</td>\n",
       "    </tr>\n",
       "    <tr>\n",
       "      <th>2</th>\n",
       "      <td>5082</td>\n",
       "      <td>2</td>\n",
       "      <td>A90</td>\n",
       "      <td>2016-03-25</td>\n",
       "      <td>201612</td>\n",
       "      <td>2016</td>\n",
       "      <td>29</td>\n",
       "      <td>293250</td>\n",
       "      <td>1385.0</td>\n",
       "      <td>2800527.0</td>\n",
       "      <td>...</td>\n",
       "      <td>NaN</td>\n",
       "      <td>NaN</td>\n",
       "      <td>NaN</td>\n",
       "      <td>NaN</td>\n",
       "      <td>NaN</td>\n",
       "      <td>1.0</td>\n",
       "      <td>NaN</td>\n",
       "      <td>4.0</td>\n",
       "      <td>NaN</td>\n",
       "      <td>e0f037bc45eeea73df919230256055724a0bc45b990d62...</td>\n",
       "    </tr>\n",
       "    <tr>\n",
       "      <th>3</th>\n",
       "      <td>111262</td>\n",
       "      <td>2</td>\n",
       "      <td>A90</td>\n",
       "      <td>2016-03-24</td>\n",
       "      <td>201612</td>\n",
       "      <td>2016</td>\n",
       "      <td>29</td>\n",
       "      <td>291360</td>\n",
       "      <td>1385.0</td>\n",
       "      <td>2706628.0</td>\n",
       "      <td>...</td>\n",
       "      <td>NaN</td>\n",
       "      <td>NaN</td>\n",
       "      <td>NaN</td>\n",
       "      <td>NaN</td>\n",
       "      <td>NaN</td>\n",
       "      <td>0.0</td>\n",
       "      <td>NaN</td>\n",
       "      <td>4.0</td>\n",
       "      <td>NaN</td>\n",
       "      <td>9b2d5b4678781e53038e91ea5324530a03f27dc1d0e5f6...</td>\n",
       "    </tr>\n",
       "    <tr>\n",
       "      <th>4</th>\n",
       "      <td>166</td>\n",
       "      <td>2</td>\n",
       "      <td>A90</td>\n",
       "      <td>2016-03-13</td>\n",
       "      <td>201611</td>\n",
       "      <td>2016</td>\n",
       "      <td>29</td>\n",
       "      <td>292210</td>\n",
       "      <td>1381.0</td>\n",
       "      <td>2498731.0</td>\n",
       "      <td>...</td>\n",
       "      <td>NaN</td>\n",
       "      <td>NaN</td>\n",
       "      <td>NaN</td>\n",
       "      <td>NaN</td>\n",
       "      <td>NaN</td>\n",
       "      <td>0.0</td>\n",
       "      <td>NaN</td>\n",
       "      <td>4.0</td>\n",
       "      <td>NaN</td>\n",
       "      <td>595d3ab2cc2bfc76ee1e9ef090ac6abf0e7b64aee90e92...</td>\n",
       "    </tr>\n",
       "    <tr>\n",
       "      <th>...</th>\n",
       "      <td>...</td>\n",
       "      <td>...</td>\n",
       "      <td>...</td>\n",
       "      <td>...</td>\n",
       "      <td>...</td>\n",
       "      <td>...</td>\n",
       "      <td>...</td>\n",
       "      <td>...</td>\n",
       "      <td>...</td>\n",
       "      <td>...</td>\n",
       "      <td>...</td>\n",
       "      <td>...</td>\n",
       "      <td>...</td>\n",
       "      <td>...</td>\n",
       "      <td>...</td>\n",
       "      <td>...</td>\n",
       "      <td>...</td>\n",
       "      <td>...</td>\n",
       "      <td>...</td>\n",
       "      <td>...</td>\n",
       "      <td>...</td>\n",
       "    </tr>\n",
       "    <tr>\n",
       "      <th>620206</th>\n",
       "      <td>7061</td>\n",
       "      <td>2</td>\n",
       "      <td>A90</td>\n",
       "      <td>2024-02-21</td>\n",
       "      <td>202408</td>\n",
       "      <td>2024</td>\n",
       "      <td>29</td>\n",
       "      <td>292300</td>\n",
       "      <td>1388.0</td>\n",
       "      <td>2506254.0</td>\n",
       "      <td>...</td>\n",
       "      <td>NaN</td>\n",
       "      <td>NaN</td>\n",
       "      <td>NaN</td>\n",
       "      <td>NaN</td>\n",
       "      <td>NaN</td>\n",
       "      <td>0.0</td>\n",
       "      <td>NaN</td>\n",
       "      <td>4.0</td>\n",
       "      <td>NaN</td>\n",
       "      <td>4ca7df06d628b3ec9fcf8f4a3a8b11661f5e98b8e54b34...</td>\n",
       "    </tr>\n",
       "    <tr>\n",
       "      <th>620207</th>\n",
       "      <td>1257</td>\n",
       "      <td>2</td>\n",
       "      <td>A90</td>\n",
       "      <td>2024-03-04</td>\n",
       "      <td>202410</td>\n",
       "      <td>2024</td>\n",
       "      <td>29</td>\n",
       "      <td>291980</td>\n",
       "      <td>1398.0</td>\n",
       "      <td>7175973.0</td>\n",
       "      <td>...</td>\n",
       "      <td>NaN</td>\n",
       "      <td>NaN</td>\n",
       "      <td>NaN</td>\n",
       "      <td>NaN</td>\n",
       "      <td>NaN</td>\n",
       "      <td>0.0</td>\n",
       "      <td>NaN</td>\n",
       "      <td>4.0</td>\n",
       "      <td>NaN</td>\n",
       "      <td>5152560db10a8bc76f1490909a74620605b6f3b512e8d7...</td>\n",
       "    </tr>\n",
       "    <tr>\n",
       "      <th>620208</th>\n",
       "      <td>372024</td>\n",
       "      <td>2</td>\n",
       "      <td>A90</td>\n",
       "      <td>2024-01-26</td>\n",
       "      <td>202404</td>\n",
       "      <td>2024</td>\n",
       "      <td>29</td>\n",
       "      <td>292303</td>\n",
       "      <td>1381.0</td>\n",
       "      <td>6540007.0</td>\n",
       "      <td>...</td>\n",
       "      <td>NaN</td>\n",
       "      <td>NaN</td>\n",
       "      <td>NaN</td>\n",
       "      <td>NaN</td>\n",
       "      <td>NaN</td>\n",
       "      <td>0.0</td>\n",
       "      <td>NaN</td>\n",
       "      <td>4.0</td>\n",
       "      <td>NaN</td>\n",
       "      <td>d7c7bebe87009f4f9e4a606f6fe2ddc83a67ea3c48ada8...</td>\n",
       "    </tr>\n",
       "    <tr>\n",
       "      <th>620209</th>\n",
       "      <td>128</td>\n",
       "      <td>2</td>\n",
       "      <td>A90</td>\n",
       "      <td>2024-02-19</td>\n",
       "      <td>202408</td>\n",
       "      <td>2024</td>\n",
       "      <td>29</td>\n",
       "      <td>291400</td>\n",
       "      <td>1381.0</td>\n",
       "      <td>2824558.0</td>\n",
       "      <td>...</td>\n",
       "      <td>NaN</td>\n",
       "      <td>NaN</td>\n",
       "      <td>NaN</td>\n",
       "      <td>NaN</td>\n",
       "      <td>NaN</td>\n",
       "      <td>1.0</td>\n",
       "      <td>NaN</td>\n",
       "      <td>4.0</td>\n",
       "      <td>NaN</td>\n",
       "      <td>9b2d5b4678781e53038e91ea5324530a03f27dc1d0e5f6...</td>\n",
       "    </tr>\n",
       "    <tr>\n",
       "      <th>620210</th>\n",
       "      <td>2257</td>\n",
       "      <td>2</td>\n",
       "      <td>A90</td>\n",
       "      <td>2024-03-26</td>\n",
       "      <td>202413</td>\n",
       "      <td>2024</td>\n",
       "      <td>29</td>\n",
       "      <td>291980</td>\n",
       "      <td>1398.0</td>\n",
       "      <td>7175973.0</td>\n",
       "      <td>...</td>\n",
       "      <td>NaN</td>\n",
       "      <td>NaN</td>\n",
       "      <td>NaN</td>\n",
       "      <td>NaN</td>\n",
       "      <td>NaN</td>\n",
       "      <td>0.0</td>\n",
       "      <td>NaN</td>\n",
       "      <td>4.0</td>\n",
       "      <td>NaN</td>\n",
       "      <td>39ff9aa9be21447bbb7d02b8a4b51bf4f1f9da1607ad75...</td>\n",
       "    </tr>\n",
       "  </tbody>\n",
       "</table>\n",
       "<p>620211 rows × 148 columns</p>\n",
       "</div>"
      ],
      "text/plain": [
       "        NU_NOTIFIC  TP_NOT ID_AGRAVO  DT_NOTIFIC  SEM_NOT  NU_ANO  SG_UF_NOT  \\\n",
       "0              158       2       A90  2016-03-05   201609    2016         29   \n",
       "1              298       2       A90  2016-02-15   201607    2016         29   \n",
       "2             5082       2       A90  2016-03-25   201612    2016         29   \n",
       "3           111262       2       A90  2016-03-24   201612    2016         29   \n",
       "4              166       2       A90  2016-03-13   201611    2016         29   \n",
       "...            ...     ...       ...         ...      ...     ...        ...   \n",
       "620206        7061       2       A90  2024-02-21   202408    2024         29   \n",
       "620207        1257       2       A90  2024-03-04   202410    2024         29   \n",
       "620208      372024       2       A90  2024-01-26   202404    2024         29   \n",
       "620209         128       2       A90  2024-02-19   202408    2024         29   \n",
       "620210        2257       2       A90  2024-03-26   202413    2024         29   \n",
       "\n",
       "        ID_MUNICIP  ID_REGIONA  ID_UNIDADE  ... DT_TRANSRM  DT_TRANSRS  \\\n",
       "0           292210      1381.0   2498731.0  ...        NaN         NaN   \n",
       "1           293290      1385.0   3280969.0  ...        NaN         NaN   \n",
       "2           293250      1385.0   2800527.0  ...        NaN         NaN   \n",
       "3           291360      1385.0   2706628.0  ...        NaN         NaN   \n",
       "4           292210      1381.0   2498731.0  ...        NaN         NaN   \n",
       "...            ...         ...         ...  ...        ...         ...   \n",
       "620206      292300      1388.0   2506254.0  ...        NaN         NaN   \n",
       "620207      291980      1398.0   7175973.0  ...        NaN         NaN   \n",
       "620208      292303      1381.0   6540007.0  ...        NaN         NaN   \n",
       "620209      291400      1381.0   2824558.0  ...        NaN         NaN   \n",
       "620210      291980      1398.0   7175973.0  ...        NaN         NaN   \n",
       "\n",
       "        DT_TRANSSE  NU_LOTE_V NU_LOTE_H  CS_FLXRET  FLXRECEBI  IDENT_MICR  \\\n",
       "0              NaN        NaN       NaN        0.0        NaN         4.0   \n",
       "1              NaN        NaN       NaN        0.0        NaN         4.0   \n",
       "2              NaN        NaN       NaN        1.0        NaN         4.0   \n",
       "3              NaN        NaN       NaN        0.0        NaN         4.0   \n",
       "4              NaN        NaN       NaN        0.0        NaN         4.0   \n",
       "...            ...        ...       ...        ...        ...         ...   \n",
       "620206         NaN        NaN       NaN        0.0        NaN         4.0   \n",
       "620207         NaN        NaN       NaN        0.0        NaN         4.0   \n",
       "620208         NaN        NaN       NaN        0.0        NaN         4.0   \n",
       "620209         NaN        NaN       NaN        1.0        NaN         4.0   \n",
       "620210         NaN        NaN       NaN        0.0        NaN         4.0   \n",
       "\n",
       "        MIGRADO_W                                  ID_CNS_SUS_HASHED  \n",
       "0             NaN  9b2d5b4678781e53038e91ea5324530a03f27dc1d0e5f6...  \n",
       "1             NaN  ebc774c2fc9be73f8d403772dc14539dbe6e448e117f62...  \n",
       "2             NaN  e0f037bc45eeea73df919230256055724a0bc45b990d62...  \n",
       "3             NaN  9b2d5b4678781e53038e91ea5324530a03f27dc1d0e5f6...  \n",
       "4             NaN  595d3ab2cc2bfc76ee1e9ef090ac6abf0e7b64aee90e92...  \n",
       "...           ...                                                ...  \n",
       "620206        NaN  4ca7df06d628b3ec9fcf8f4a3a8b11661f5e98b8e54b34...  \n",
       "620207        NaN  5152560db10a8bc76f1490909a74620605b6f3b512e8d7...  \n",
       "620208        NaN  d7c7bebe87009f4f9e4a606f6fe2ddc83a67ea3c48ada8...  \n",
       "620209        NaN  9b2d5b4678781e53038e91ea5324530a03f27dc1d0e5f6...  \n",
       "620210        NaN  39ff9aa9be21447bbb7d02b8a4b51bf4f1f9da1607ad75...  \n",
       "\n",
       "[620211 rows x 148 columns]"
      ]
     },
     "metadata": {},
     "output_type": "display_data"
    }
   ],
   "source": [
    "display(df)"
   ]
  },
  {
   "cell_type": "code",
   "execution_count": 558,
   "metadata": {},
   "outputs": [
    {
     "name": "stdout",
     "output_type": "stream",
     "text": [
      "0         0\n",
      "1         0\n",
      "2         1\n",
      "3         1\n",
      "4         0\n",
      "         ..\n",
      "620206    0\n",
      "620207    0\n",
      "620208    0\n",
      "620209    0\n",
      "620210    0\n",
      "Name: CLASSI_FIN, Length: 620211, dtype: int64\n"
     ]
    }
   ],
   "source": [
    "#Cria a variável com_dengue que será utilizada para classificação\n",
    "com_dengue = df['CLASSI_FIN'].apply(lambda x:1 if x == (10.0 or 11.0 or 12.0) else 0)\n",
    "print(com_dengue)"
   ]
  },
  {
   "cell_type": "markdown",
   "metadata": {},
   "source": [
    "# 1. Pré-processamento de dados"
   ]
  },
  {
   "cell_type": "markdown",
   "metadata": {},
   "source": [
    "## REMOÇÃO DE COLUNAS COM VALORES AUSENTES"
   ]
  },
  {
   "cell_type": "code",
   "execution_count": 559,
   "metadata": {},
   "outputs": [],
   "source": [
    "# Filtragem de colunas nulas\n",
    "vetor_colunas_nulas = df.isna().mean()"
   ]
  },
  {
   "cell_type": "code",
   "execution_count": 560,
   "metadata": {},
   "outputs": [],
   "source": [
    "colunas_faltantes = vetor_colunas_nulas[vetor_colunas_nulas >= 0.70].index"
   ]
  },
  {
   "cell_type": "code",
   "execution_count": 561,
   "metadata": {},
   "outputs": [],
   "source": [
    "dengue_filtrada = df.drop(columns=colunas_faltantes)"
   ]
  },
  {
   "cell_type": "markdown",
   "metadata": {},
   "source": [
    "## GRÁFICOS (MATRIZ DE CORRELAÇÃO/COVARIÂNCIA, HISTOGRAMAS / BOXPLOTS)"
   ]
  },
  {
   "cell_type": "code",
   "execution_count": 562,
   "metadata": {},
   "outputs": [],
   "source": [
    "# Matrix de correlação e gráfico de correlação\n",
    "colunas_numericas = dengue_filtrada.select_dtypes(include=[np.number]).columns"
   ]
  },
  {
   "cell_type": "code",
   "execution_count": 563,
   "metadata": {},
   "outputs": [],
   "source": [
    "sem_faltantes = dengue_filtrada[colunas_numericas].dropna()"
   ]
  },
  {
   "cell_type": "code",
   "execution_count": 564,
   "metadata": {},
   "outputs": [],
   "source": [
    "matrix_correlacao = sem_faltantes.corr()"
   ]
  },
  {
   "cell_type": "code",
   "execution_count": 565,
   "metadata": {},
   "outputs": [
    {
     "name": "stderr",
     "output_type": "stream",
     "text": [
      "C:\\Users\\leand\\anaconda3\\Lib\\site-packages\\seaborn\\matrix.py:260: FutureWarning: Format strings passed to MaskedConstant are ignored, but in future may error or produce different behavior\n",
      "  annotation = (\"{:\" + self.fmt + \"}\").format(val)\n"
     ]
    },
    {
     "data": {
      "image/png": "[encoded data removed]",
      "text/plain": [
       "<Figure size 1000x800 with 2 Axes>"
      ]
     },
     "metadata": {},
     "output_type": "display_data"
    }
   ],
   "source": [
    "# Plot do gráfico de correlação\n",
    "plt.figure(figsize=(10, 8))\n",
    "sns.heatmap(matrix_correlacao, annot=True, cmap='coolwarm', fmt='.2f')\n",
    "plt.title('Matriz de Correlação')\n",
    "plt.show()"
   ]
  },
  {
   "cell_type": "markdown",
   "metadata": {},
   "source": [
    "## CODIFICAÇÃO/ENCODING"
   ]
  },
  {
   "cell_type": "markdown",
   "metadata": {},
   "source": [
    "## NORMALIZAÇÃO/PADRONIZAÇÃO"
   ]
  },
  {
   "cell_type": "code",
   "execution_count": 566,
   "metadata": {},
   "outputs": [],
   "source": [
    "# Normalizar variáveis\n",
    "variaveis_normalizada = (sem_faltantes - sem_faltantes.mean()) / sem_faltantes.std()"
   ]
  },
  {
   "cell_type": "code",
   "execution_count": 567,
   "metadata": {},
   "outputs": [],
   "source": [
    "dados_normalizados = variaveis_normalizada.copy()"
   ]
  },
  {
   "cell_type": "code",
   "execution_count": 568,
   "metadata": {},
   "outputs": [
    {
     "name": "stdout",
     "output_type": "stream",
     "text": [
      "    NU_NOTIFIC  TP_NOT   SEM_NOT    NU_ANO  SG_UF_NOT  ID_MUNICIP  ID_REGIONA  \\\n",
      "2    -0.372121     NaN -2.010894 -1.981861   -0.02928    0.221652   -0.126696   \n",
      "10   -0.376966     NaN -2.055520 -1.981861   -0.02928   -0.222523   -0.126696   \n",
      "20    1.360298     NaN -2.055520 -1.981861   -0.02928    0.137440   -0.253177   \n",
      "35    1.360307     NaN -2.051463 -1.981861   -0.02928    0.137440   -0.253177   \n",
      "52    1.360246     NaN -2.055520 -1.981861   -0.02928    0.137440   -0.253177   \n",
      "\n",
      "    ID_UNIDADE   SEM_PRI  NU_IDADE_N  ...  ACIDO_PEPT  AUTO_IMUNE  RESUL_SORO  \\\n",
      "2    -0.631767 -1.451816    0.236800  ...    0.072518     0.06661    0.852842   \n",
      "10   -0.642537 -1.635085    0.200014  ...    0.072518     0.06661   -0.744963   \n",
      "20   -1.658438 -1.632081    0.110095  ...    0.072518     0.06661   -0.744963   \n",
      "35   -1.658438 -1.484865    0.056960  ...    0.072518     0.06661   -1.543865   \n",
      "52   -1.658438 -1.632081    0.281760  ...    0.072518     0.06661   -0.744963   \n",
      "\n",
      "    HOSPITALIZ  CLASSI_FIN  CRITERIO  EVOLUCAO  TP_SISTEMA  CS_FLXRET  \\\n",
      "2    -0.169946    0.844286  0.953830 -0.253696         NaN     0.9966   \n",
      "10   -0.169946    0.844286 -0.967585 -0.253696         NaN     0.9966   \n",
      "20   -0.169946   -1.175758 -0.967585  3.989947         NaN     0.9966   \n",
      "35   -0.169946    0.844286 -0.967585 -0.253696         NaN     0.9966   \n",
      "52   -0.169946   -1.175758 -0.967585 -0.253696         NaN     0.9966   \n",
      "\n",
      "    IDENT_MICR  \n",
      "2    -0.303790  \n",
      "10   -0.303790  \n",
      "20    3.298987  \n",
      "35    3.298987  \n",
      "52    3.298987  \n",
      "\n",
      "[5 rows x 48 columns]\n"
     ]
    }
   ],
   "source": [
    "print(variaveis_normalizada.head())"
   ]
  },
  {
   "cell_type": "markdown",
   "metadata": {},
   "source": [
    "# 2. Treinamento de algoritmos"
   ]
  },
  {
   "cell_type": "markdown",
   "metadata": {},
   "source": [
    "# 2.0.1 Ajustes na base"
   ]
  },
  {
   "cell_type": "code",
   "execution_count": 569,
   "metadata": {},
   "outputs": [
    {
     "data": {
      "text/html": [
       "<div>\n",
       "<style scoped>\n",
       "    .dataframe tbody tr th:only-of-type {\n",
       "        vertical-align: middle;\n",
       "    }\n",
       "\n",
       "    .dataframe tbody tr th {\n",
       "        vertical-align: top;\n",
       "    }\n",
       "\n",
       "    .dataframe thead th {\n",
       "        text-align: right;\n",
       "    }\n",
       "</style>\n",
       "<table border=\"1\" class=\"dataframe\">\n",
       "  <thead>\n",
       "    <tr style=\"text-align: right;\">\n",
       "      <th></th>\n",
       "      <th>NU_NOTIFIC</th>\n",
       "      <th>TP_NOT</th>\n",
       "      <th>SEM_NOT</th>\n",
       "      <th>NU_ANO</th>\n",
       "      <th>SG_UF_NOT</th>\n",
       "      <th>ID_MUNICIP</th>\n",
       "      <th>ID_REGIONA</th>\n",
       "      <th>ID_UNIDADE</th>\n",
       "      <th>SEM_PRI</th>\n",
       "      <th>NU_IDADE_N</th>\n",
       "      <th>...</th>\n",
       "      <th>ACIDO_PEPT</th>\n",
       "      <th>AUTO_IMUNE</th>\n",
       "      <th>RESUL_SORO</th>\n",
       "      <th>HOSPITALIZ</th>\n",
       "      <th>CLASSI_FIN</th>\n",
       "      <th>CRITERIO</th>\n",
       "      <th>EVOLUCAO</th>\n",
       "      <th>TP_SISTEMA</th>\n",
       "      <th>CS_FLXRET</th>\n",
       "      <th>IDENT_MICR</th>\n",
       "    </tr>\n",
       "  </thead>\n",
       "  <tbody>\n",
       "    <tr>\n",
       "      <th>2</th>\n",
       "      <td>-0.372121</td>\n",
       "      <td>NaN</td>\n",
       "      <td>-2.010894</td>\n",
       "      <td>-1.981861</td>\n",
       "      <td>-0.02928</td>\n",
       "      <td>0.221652</td>\n",
       "      <td>-0.126696</td>\n",
       "      <td>-0.631767</td>\n",
       "      <td>-1.451816</td>\n",
       "      <td>0.236800</td>\n",
       "      <td>...</td>\n",
       "      <td>0.072518</td>\n",
       "      <td>0.06661</td>\n",
       "      <td>0.852842</td>\n",
       "      <td>-0.169946</td>\n",
       "      <td>0.844286</td>\n",
       "      <td>0.953830</td>\n",
       "      <td>-0.253696</td>\n",
       "      <td>NaN</td>\n",
       "      <td>0.9966</td>\n",
       "      <td>-0.303790</td>\n",
       "    </tr>\n",
       "    <tr>\n",
       "      <th>10</th>\n",
       "      <td>-0.376966</td>\n",
       "      <td>NaN</td>\n",
       "      <td>-2.055520</td>\n",
       "      <td>-1.981861</td>\n",
       "      <td>-0.02928</td>\n",
       "      <td>-0.222523</td>\n",
       "      <td>-0.126696</td>\n",
       "      <td>-0.642537</td>\n",
       "      <td>-1.635085</td>\n",
       "      <td>0.200014</td>\n",
       "      <td>...</td>\n",
       "      <td>0.072518</td>\n",
       "      <td>0.06661</td>\n",
       "      <td>-0.744963</td>\n",
       "      <td>-0.169946</td>\n",
       "      <td>0.844286</td>\n",
       "      <td>-0.967585</td>\n",
       "      <td>-0.253696</td>\n",
       "      <td>NaN</td>\n",
       "      <td>0.9966</td>\n",
       "      <td>-0.303790</td>\n",
       "    </tr>\n",
       "    <tr>\n",
       "      <th>20</th>\n",
       "      <td>1.360298</td>\n",
       "      <td>NaN</td>\n",
       "      <td>-2.055520</td>\n",
       "      <td>-1.981861</td>\n",
       "      <td>-0.02928</td>\n",
       "      <td>0.137440</td>\n",
       "      <td>-0.253177</td>\n",
       "      <td>-1.658438</td>\n",
       "      <td>-1.632081</td>\n",
       "      <td>0.110095</td>\n",
       "      <td>...</td>\n",
       "      <td>0.072518</td>\n",
       "      <td>0.06661</td>\n",
       "      <td>-0.744963</td>\n",
       "      <td>-0.169946</td>\n",
       "      <td>-1.175758</td>\n",
       "      <td>-0.967585</td>\n",
       "      <td>3.989947</td>\n",
       "      <td>NaN</td>\n",
       "      <td>0.9966</td>\n",
       "      <td>3.298987</td>\n",
       "    </tr>\n",
       "    <tr>\n",
       "      <th>35</th>\n",
       "      <td>1.360307</td>\n",
       "      <td>NaN</td>\n",
       "      <td>-2.051463</td>\n",
       "      <td>-1.981861</td>\n",
       "      <td>-0.02928</td>\n",
       "      <td>0.137440</td>\n",
       "      <td>-0.253177</td>\n",
       "      <td>-1.658438</td>\n",
       "      <td>-1.484865</td>\n",
       "      <td>0.056960</td>\n",
       "      <td>...</td>\n",
       "      <td>0.072518</td>\n",
       "      <td>0.06661</td>\n",
       "      <td>-1.543865</td>\n",
       "      <td>-0.169946</td>\n",
       "      <td>0.844286</td>\n",
       "      <td>-0.967585</td>\n",
       "      <td>-0.253696</td>\n",
       "      <td>NaN</td>\n",
       "      <td>0.9966</td>\n",
       "      <td>3.298987</td>\n",
       "    </tr>\n",
       "    <tr>\n",
       "      <th>52</th>\n",
       "      <td>1.360246</td>\n",
       "      <td>NaN</td>\n",
       "      <td>-2.055520</td>\n",
       "      <td>-1.981861</td>\n",
       "      <td>-0.02928</td>\n",
       "      <td>0.137440</td>\n",
       "      <td>-0.253177</td>\n",
       "      <td>-1.658438</td>\n",
       "      <td>-1.632081</td>\n",
       "      <td>0.281760</td>\n",
       "      <td>...</td>\n",
       "      <td>0.072518</td>\n",
       "      <td>0.06661</td>\n",
       "      <td>-0.744963</td>\n",
       "      <td>-0.169946</td>\n",
       "      <td>-1.175758</td>\n",
       "      <td>-0.967585</td>\n",
       "      <td>-0.253696</td>\n",
       "      <td>NaN</td>\n",
       "      <td>0.9966</td>\n",
       "      <td>3.298987</td>\n",
       "    </tr>\n",
       "    <tr>\n",
       "      <th>...</th>\n",
       "      <td>...</td>\n",
       "      <td>...</td>\n",
       "      <td>...</td>\n",
       "      <td>...</td>\n",
       "      <td>...</td>\n",
       "      <td>...</td>\n",
       "      <td>...</td>\n",
       "      <td>...</td>\n",
       "      <td>...</td>\n",
       "      <td>...</td>\n",
       "      <td>...</td>\n",
       "      <td>...</td>\n",
       "      <td>...</td>\n",
       "      <td>...</td>\n",
       "      <td>...</td>\n",
       "      <td>...</td>\n",
       "      <td>...</td>\n",
       "      <td>...</td>\n",
       "      <td>...</td>\n",
       "      <td>...</td>\n",
       "      <td>...</td>\n",
       "    </tr>\n",
       "    <tr>\n",
       "      <th>615824</th>\n",
       "      <td>-0.364813</td>\n",
       "      <td>NaN</td>\n",
       "      <td>1.218416</td>\n",
       "      <td>1.255741</td>\n",
       "      <td>-0.02928</td>\n",
       "      <td>0.031763</td>\n",
       "      <td>-0.253177</td>\n",
       "      <td>0.444560</td>\n",
       "      <td>0.939694</td>\n",
       "      <td>0.257236</td>\n",
       "      <td>...</td>\n",
       "      <td>0.072518</td>\n",
       "      <td>0.06661</td>\n",
       "      <td>0.852842</td>\n",
       "      <td>-0.169946</td>\n",
       "      <td>-1.175758</td>\n",
       "      <td>0.953830</td>\n",
       "      <td>-0.253696</td>\n",
       "      <td>NaN</td>\n",
       "      <td>-1.0034</td>\n",
       "      <td>-0.303790</td>\n",
       "    </tr>\n",
       "    <tr>\n",
       "      <th>615848</th>\n",
       "      <td>-0.343983</td>\n",
       "      <td>NaN</td>\n",
       "      <td>1.218416</td>\n",
       "      <td>1.255741</td>\n",
       "      <td>-0.02928</td>\n",
       "      <td>0.221652</td>\n",
       "      <td>-0.126696</td>\n",
       "      <td>0.969933</td>\n",
       "      <td>0.939694</td>\n",
       "      <td>0.114182</td>\n",
       "      <td>...</td>\n",
       "      <td>0.072518</td>\n",
       "      <td>0.06661</td>\n",
       "      <td>0.852842</td>\n",
       "      <td>-0.824452</td>\n",
       "      <td>-1.175758</td>\n",
       "      <td>0.953830</td>\n",
       "      <td>-0.253696</td>\n",
       "      <td>NaN</td>\n",
       "      <td>-1.0034</td>\n",
       "      <td>-0.303790</td>\n",
       "    </tr>\n",
       "    <tr>\n",
       "      <th>615856</th>\n",
       "      <td>-0.381341</td>\n",
       "      <td>NaN</td>\n",
       "      <td>1.226530</td>\n",
       "      <td>1.255741</td>\n",
       "      <td>-0.02928</td>\n",
       "      <td>-0.148218</td>\n",
       "      <td>0.202153</td>\n",
       "      <td>-0.704455</td>\n",
       "      <td>0.942698</td>\n",
       "      <td>0.110095</td>\n",
       "      <td>...</td>\n",
       "      <td>0.072518</td>\n",
       "      <td>0.06661</td>\n",
       "      <td>0.852842</td>\n",
       "      <td>-0.169946</td>\n",
       "      <td>-1.175758</td>\n",
       "      <td>-0.967585</td>\n",
       "      <td>-0.253696</td>\n",
       "      <td>NaN</td>\n",
       "      <td>-1.0034</td>\n",
       "      <td>-0.303790</td>\n",
       "    </tr>\n",
       "    <tr>\n",
       "      <th>615865</th>\n",
       "      <td>2.969939</td>\n",
       "      <td>NaN</td>\n",
       "      <td>1.214359</td>\n",
       "      <td>1.255741</td>\n",
       "      <td>-0.02928</td>\n",
       "      <td>-0.100333</td>\n",
       "      <td>-0.227881</td>\n",
       "      <td>-0.774163</td>\n",
       "      <td>0.933685</td>\n",
       "      <td>0.085571</td>\n",
       "      <td>...</td>\n",
       "      <td>0.072518</td>\n",
       "      <td>0.06661</td>\n",
       "      <td>0.852842</td>\n",
       "      <td>-0.169946</td>\n",
       "      <td>-1.175758</td>\n",
       "      <td>0.953830</td>\n",
       "      <td>-0.253696</td>\n",
       "      <td>NaN</td>\n",
       "      <td>-1.0034</td>\n",
       "      <td>-0.303790</td>\n",
       "    </tr>\n",
       "    <tr>\n",
       "      <th>615869</th>\n",
       "      <td>-0.349299</td>\n",
       "      <td>NaN</td>\n",
       "      <td>1.222473</td>\n",
       "      <td>1.255741</td>\n",
       "      <td>-0.02928</td>\n",
       "      <td>-0.044192</td>\n",
       "      <td>0.202153</td>\n",
       "      <td>-0.267950</td>\n",
       "      <td>0.942698</td>\n",
       "      <td>0.134618</td>\n",
       "      <td>...</td>\n",
       "      <td>0.072518</td>\n",
       "      <td>0.06661</td>\n",
       "      <td>-1.543865</td>\n",
       "      <td>-0.169946</td>\n",
       "      <td>0.844286</td>\n",
       "      <td>-0.967585</td>\n",
       "      <td>-0.253696</td>\n",
       "      <td>NaN</td>\n",
       "      <td>-1.0034</td>\n",
       "      <td>-0.303790</td>\n",
       "    </tr>\n",
       "  </tbody>\n",
       "</table>\n",
       "<p>83534 rows × 48 columns</p>\n",
       "</div>"
      ],
      "text/plain": [
       "        NU_NOTIFIC  TP_NOT   SEM_NOT    NU_ANO  SG_UF_NOT  ID_MUNICIP  \\\n",
       "2        -0.372121     NaN -2.010894 -1.981861   -0.02928    0.221652   \n",
       "10       -0.376966     NaN -2.055520 -1.981861   -0.02928   -0.222523   \n",
       "20        1.360298     NaN -2.055520 -1.981861   -0.02928    0.137440   \n",
       "35        1.360307     NaN -2.051463 -1.981861   -0.02928    0.137440   \n",
       "52        1.360246     NaN -2.055520 -1.981861   -0.02928    0.137440   \n",
       "...            ...     ...       ...       ...        ...         ...   \n",
       "615824   -0.364813     NaN  1.218416  1.255741   -0.02928    0.031763   \n",
       "615848   -0.343983     NaN  1.218416  1.255741   -0.02928    0.221652   \n",
       "615856   -0.381341     NaN  1.226530  1.255741   -0.02928   -0.148218   \n",
       "615865    2.969939     NaN  1.214359  1.255741   -0.02928   -0.100333   \n",
       "615869   -0.349299     NaN  1.222473  1.255741   -0.02928   -0.044192   \n",
       "\n",
       "        ID_REGIONA  ID_UNIDADE   SEM_PRI  NU_IDADE_N  ...  ACIDO_PEPT  \\\n",
       "2        -0.126696   -0.631767 -1.451816    0.236800  ...    0.072518   \n",
       "10       -0.126696   -0.642537 -1.635085    0.200014  ...    0.072518   \n",
       "20       -0.253177   -1.658438 -1.632081    0.110095  ...    0.072518   \n",
       "35       -0.253177   -1.658438 -1.484865    0.056960  ...    0.072518   \n",
       "52       -0.253177   -1.658438 -1.632081    0.281760  ...    0.072518   \n",
       "...            ...         ...       ...         ...  ...         ...   \n",
       "615824   -0.253177    0.444560  0.939694    0.257236  ...    0.072518   \n",
       "615848   -0.126696    0.969933  0.939694    0.114182  ...    0.072518   \n",
       "615856    0.202153   -0.704455  0.942698    0.110095  ...    0.072518   \n",
       "615865   -0.227881   -0.774163  0.933685    0.085571  ...    0.072518   \n",
       "615869    0.202153   -0.267950  0.942698    0.134618  ...    0.072518   \n",
       "\n",
       "        AUTO_IMUNE  RESUL_SORO  HOSPITALIZ  CLASSI_FIN  CRITERIO  EVOLUCAO  \\\n",
       "2          0.06661    0.852842   -0.169946    0.844286  0.953830 -0.253696   \n",
       "10         0.06661   -0.744963   -0.169946    0.844286 -0.967585 -0.253696   \n",
       "20         0.06661   -0.744963   -0.169946   -1.175758 -0.967585  3.989947   \n",
       "35         0.06661   -1.543865   -0.169946    0.844286 -0.967585 -0.253696   \n",
       "52         0.06661   -0.744963   -0.169946   -1.175758 -0.967585 -0.253696   \n",
       "...            ...         ...         ...         ...       ...       ...   \n",
       "615824     0.06661    0.852842   -0.169946   -1.175758  0.953830 -0.253696   \n",
       "615848     0.06661    0.852842   -0.824452   -1.175758  0.953830 -0.253696   \n",
       "615856     0.06661    0.852842   -0.169946   -1.175758 -0.967585 -0.253696   \n",
       "615865     0.06661    0.852842   -0.169946   -1.175758  0.953830 -0.253696   \n",
       "615869     0.06661   -1.543865   -0.169946    0.844286 -0.967585 -0.253696   \n",
       "\n",
       "        TP_SISTEMA  CS_FLXRET  IDENT_MICR  \n",
       "2              NaN     0.9966   -0.303790  \n",
       "10             NaN     0.9966   -0.303790  \n",
       "20             NaN     0.9966    3.298987  \n",
       "35             NaN     0.9966    3.298987  \n",
       "52             NaN     0.9966    3.298987  \n",
       "...            ...        ...         ...  \n",
       "615824         NaN    -1.0034   -0.303790  \n",
       "615848         NaN    -1.0034   -0.303790  \n",
       "615856         NaN    -1.0034   -0.303790  \n",
       "615865         NaN    -1.0034   -0.303790  \n",
       "615869         NaN    -1.0034   -0.303790  \n",
       "\n",
       "[83534 rows x 48 columns]"
      ]
     },
     "metadata": {},
     "output_type": "display_data"
    }
   ],
   "source": [
    "dengue = dados_normalizados\n",
    "display(dengue)"
   ]
  },
  {
   "cell_type": "code",
   "execution_count": 570,
   "metadata": {},
   "outputs": [
    {
     "data": {
      "text/plain": [
       "Index(['TP_NOT', 'SG_UF', 'ID_PAIS', 'TP_SISTEMA'], dtype='object')"
      ]
     },
     "execution_count": 570,
     "metadata": {},
     "output_type": "execute_result"
    }
   ],
   "source": [
    "dengue.columns[dengue.isnull().all()]"
   ]
  },
  {
   "cell_type": "code",
   "execution_count": 571,
   "metadata": {},
   "outputs": [],
   "source": [
    "colunas_nulas = dengue.columns[dengue.isnull().all()]\n",
    "dengue = dengue.drop(colunas_nulas,axis=1)"
   ]
  },
  {
   "cell_type": "code",
   "execution_count": 572,
   "metadata": {},
   "outputs": [],
   "source": [
    "#Cria a coluna que será usada para classificação classificação 'COM_DENGUE'\n",
    "dengue['COM_DENGUE'] = com_dengue"
   ]
  },
  {
   "cell_type": "code",
   "execution_count": 573,
   "metadata": {},
   "outputs": [
    {
     "data": {
      "text/plain": [
       "COM_DENGUE\n",
       "1    46446\n",
       "0    37088\n",
       "Name: count, dtype: int64"
      ]
     },
     "execution_count": 573,
     "metadata": {},
     "output_type": "execute_result"
    }
   ],
   "source": [
    "y = dengue['COM_DENGUE']\n",
    "x = dengue.drop(columns=['COM_DENGUE'])\n",
    "#dengue.drop([y], axis=1).boxplot(figsize=(14,6))\n",
    "dengue['COM_DENGUE'].value_counts()"
   ]
  },
  {
   "cell_type": "code",
   "execution_count": 574,
   "metadata": {},
   "outputs": [],
   "source": [
    "# obter 37000 instâncias de cada classe selecionadas aleatoriamete\n",
    "#semDengue = dengue[dengue[y] == 0].sample(n=37000, random_state=3)\n",
    "#comDengue = dengue[dengue[y] == 1].sample(n=37000, random_state=6)"
   ]
  },
  {
   "cell_type": "code",
   "execution_count": 575,
   "metadata": {},
   "outputs": [],
   "source": [
    "# Concatenar as subamostras em um único dataframe\n",
    "#amostra = pd.concat([semDengue, comDengue])"
   ]
  },
  {
   "cell_type": "code",
   "execution_count": 576,
   "metadata": {},
   "outputs": [],
   "source": [
    "# Dividir o conjunto de treino 60% e variável temporária 40%\n",
    "X_treino, X_var_temporaria, y_treino, y_var_temporaria = train_test_split(x, y, test_size=0.4, random_state=9)"
   ]
  },
  {
   "cell_type": "code",
   "execution_count": 577,
   "metadata": {},
   "outputs": [],
   "source": [
    "# Distribui 20% do conjunto para treino e 20% para validação\n",
    "X_validacao, X_teste, y_validacao, y_teste = train_test_split(X_var_temporaria, y_var_temporaria, test_size=0.5, random_state=143)"
   ]
  },
  {
   "cell_type": "markdown",
   "metadata": {},
   "source": [
    "# 2.1 K-Nearest Neighbors (KNN)"
   ]
  },
  {
   "cell_type": "code",
   "execution_count": 578,
   "metadata": {},
   "outputs": [],
   "source": [
    "neigh = KNeighborsClassifier(n_neighbors=5)"
   ]
  },
  {
   "cell_type": "code",
   "execution_count": 579,
   "metadata": {},
   "outputs": [],
   "source": [
    "#Fit do modelo\n",
    "neight = neigh.fit(X_treino, y_treino)"
   ]
  },
  {
   "cell_type": "code",
   "execution_count": 580,
   "metadata": {},
   "outputs": [],
   "source": [
    "# Predicão KNN\n",
    "pred_KNN = neigh.predict(X_teste)"
   ]
  },
  {
   "cell_type": "code",
   "execution_count": 581,
   "metadata": {},
   "outputs": [
    {
     "name": "stdout",
     "output_type": "stream",
     "text": [
      "0.9397258634105464\n"
     ]
    }
   ],
   "source": [
    "# Acurácia\n",
    "print(accuracy_score(y_teste,pred_KNN))"
   ]
  },
  {
   "cell_type": "code",
   "execution_count": 582,
   "metadata": {},
   "outputs": [
    {
     "name": "stdout",
     "output_type": "stream",
     "text": [
      "0.936174701972782\n"
     ]
    }
   ],
   "source": [
    "# Precisão\n",
    "print(precision_score(y_teste,pred_KNN))"
   ]
  },
  {
   "cell_type": "code",
   "execution_count": 583,
   "metadata": {},
   "outputs": [
    {
     "name": "stdout",
     "output_type": "stream",
     "text": [
      "0.9566623544631306\n"
     ]
    }
   ],
   "source": [
    "# Recall\n",
    "print(recall_score(y_teste,pred_KNN))"
   ]
  },
  {
   "cell_type": "code",
   "execution_count": 584,
   "metadata": {},
   "outputs": [
    {
     "name": "stdout",
     "output_type": "stream",
     "text": [
      "0.9463076512929887\n"
     ]
    }
   ],
   "source": [
    "# F1 score\n",
    "print(f1_score(y_teste,pred_KNN))"
   ]
  },
  {
   "cell_type": "code",
   "execution_count": 585,
   "metadata": {},
   "outputs": [
    {
     "data": {
      "image/png": "[encoded data removed]",
      "text/plain": [
       "<Figure size 640x480 with 2 Axes>"
      ]
     },
     "metadata": {},
     "output_type": "display_data"
    }
   ],
   "source": [
    "# Calcula a matriz de confusão\n",
    "cm = confusion_matrix(y_teste, pred_KNN)\n",
    "\n",
    "# Define rótulos para os eixos\n",
    "labels = ['Positivo', 'Negativo']\n",
    "\n",
    "# Cria o mapa de cor da matriz\n",
    "sns.heatmap(cm, annot=True, cmap=\"Blues\", fmt=\"d\", xticklabels=labels, yticklabels=labels)\n",
    "\n",
    "# Adiciona eixos e title\n",
    "plt.xlabel(\"Previsto\")\n",
    "plt.ylabel(\"Verdadeiro\")\n",
    "plt.title(\"Matriz de Confusão\")\n",
    "plt.show()"
   ]
  },
  {
   "cell_type": "code",
   "execution_count": 586,
   "metadata": {},
   "outputs": [],
   "source": [
    "# Validação - Predicão KNN\n",
    "pred_KNN_val = neigh.predict(X_validacao)"
   ]
  },
  {
   "cell_type": "code",
   "execution_count": 587,
   "metadata": {},
   "outputs": [
    {
     "name": "stdout",
     "output_type": "stream",
     "text": [
      "0.9366133955826899\n"
     ]
    }
   ],
   "source": [
    "# Validação - Acurácia\n",
    "print(accuracy_score(y_validacao, pred_KNN_val))"
   ]
  },
  {
   "cell_type": "code",
   "execution_count": 588,
   "metadata": {},
   "outputs": [
    {
     "name": "stdout",
     "output_type": "stream",
     "text": [
      "0.936140871963509\n"
     ]
    }
   ],
   "source": [
    "# Validação - Precisão\n",
    "print(precision_score(y_validacao, pred_KNN_val))"
   ]
  },
  {
   "cell_type": "code",
   "execution_count": 589,
   "metadata": {},
   "outputs": [
    {
     "name": "stdout",
     "output_type": "stream",
     "text": [
      "0.9507649213531566\n"
     ]
    }
   ],
   "source": [
    "# Validação - Recall\n",
    "print(recall_score(y_validacao, pred_KNN_val))"
   ]
  },
  {
   "cell_type": "code",
   "execution_count": 590,
   "metadata": {},
   "outputs": [
    {
     "name": "stdout",
     "output_type": "stream",
     "text": [
      "0.9433962264150942\n"
     ]
    }
   ],
   "source": [
    "# Validação - F1 score\n",
    "print(f1_score(y_validacao,pred_KNN_val))"
   ]
  },
  {
   "cell_type": "code",
   "execution_count": 591,
   "metadata": {},
   "outputs": [
    {
     "name": "stdout",
     "output_type": "stream",
     "text": [
      "0.9272152656403381\n"
     ]
    }
   ],
   "source": [
    "# Validação cruzada - Precisão\n",
    "validacao_cruzada = cross_val_predict(neigh, x, y, cv=10)\n",
    "print(accuracy_score(y, validacao_cruzada))"
   ]
  },
  {
   "cell_type": "markdown",
   "metadata": {},
   "source": [
    "# 2.2 Árvore de Decisão"
   ]
  },
  {
   "cell_type": "code",
   "execution_count": 592,
   "metadata": {},
   "outputs": [],
   "source": [
    "clfArvore = tree.DecisionTreeClassifier(random_state=0, min_samples_split=2, min_samples_leaf=1)"
   ]
  },
  {
   "cell_type": "code",
   "execution_count": 593,
   "metadata": {},
   "outputs": [],
   "source": [
    "#Fit do modelo\n",
    "clfArvore = clfArvore.fit(X_treino, y_treino)"
   ]
  },
  {
   "cell_type": "code",
   "execution_count": 594,
   "metadata": {},
   "outputs": [],
   "source": [
    "# Predicão\n",
    "pred_Arvore = clfArvore.predict(X_teste)"
   ]
  },
  {
   "cell_type": "code",
   "execution_count": 595,
   "metadata": {},
   "outputs": [
    {
     "name": "stdout",
     "output_type": "stream",
     "text": [
      "1.0\n"
     ]
    }
   ],
   "source": [
    "# Acurácia\n",
    "print(accuracy_score(y_teste,pred_Arvore))"
   ]
  },
  {
   "cell_type": "code",
   "execution_count": 596,
   "metadata": {},
   "outputs": [
    {
     "name": "stdout",
     "output_type": "stream",
     "text": [
      "1.0\n"
     ]
    }
   ],
   "source": [
    "# Precisão\n",
    "print(precision_score(y_teste,pred_Arvore))"
   ]
  },
  {
   "cell_type": "code",
   "execution_count": 597,
   "metadata": {},
   "outputs": [
    {
     "name": "stdout",
     "output_type": "stream",
     "text": [
      "1.0\n"
     ]
    }
   ],
   "source": [
    "# Recall\n",
    "print(recall_score(y_teste,pred_Arvore))"
   ]
  },
  {
   "cell_type": "code",
   "execution_count": 598,
   "metadata": {},
   "outputs": [
    {
     "name": "stdout",
     "output_type": "stream",
     "text": [
      "1.0\n"
     ]
    }
   ],
   "source": [
    "# F1 score\n",
    "print(f1_score(y_teste, pred_Arvore))"
   ]
  },
  {
   "cell_type": "code",
   "execution_count": 599,
   "metadata": {},
   "outputs": [
    {
     "data": {
      "image/png": "[encoded data removed]",
      "text/plain": [
       "<Figure size 640x480 with 2 Axes>"
      ]
     },
     "metadata": {},
     "output_type": "display_data"
    }
   ],
   "source": [
    "# Calcula a matriz de confusão\n",
    "cma = confusion_matrix(y_teste, pred_Arvore)\n",
    "\n",
    "# Define rótulos para os eixos\n",
    "labels = ['Positivo', 'Negativo']\n",
    "\n",
    "# Cria o mapa de cor da matriz\n",
    "sns.heatmap(cma, annot=True, cmap=\"Reds\", fmt=\"d\", xticklabels=labels, yticklabels=labels)\n",
    "\n",
    "# Adiciona eixos e title\n",
    "plt.xlabel(\"Previsto\")\n",
    "plt.ylabel(\"Verdadeiro\")\n",
    "plt.title(\"Matriz de Confusão\")\n",
    "plt.show()"
   ]
  },
  {
   "cell_type": "code",
   "execution_count": 600,
   "metadata": {},
   "outputs": [],
   "source": [
    "# Validação - Predicão\n",
    "pred_Arvore_val = clfArvore.predict(X_validacao)"
   ]
  },
  {
   "cell_type": "code",
   "execution_count": 601,
   "metadata": {},
   "outputs": [
    {
     "name": "stdout",
     "output_type": "stream",
     "text": [
      "1.0\n"
     ]
    }
   ],
   "source": [
    "# Validação - Acurácia\n",
    "print(accuracy_score(y_validacao, pred_Arvore_val))"
   ]
  },
  {
   "cell_type": "code",
   "execution_count": 602,
   "metadata": {},
   "outputs": [
    {
     "name": "stdout",
     "output_type": "stream",
     "text": [
      "1.0\n"
     ]
    }
   ],
   "source": [
    "# Validação - Precisão\n",
    "print(precision_score(y_validacao, pred_Arvore_val))"
   ]
  },
  {
   "cell_type": "code",
   "execution_count": 603,
   "metadata": {},
   "outputs": [
    {
     "name": "stdout",
     "output_type": "stream",
     "text": [
      "1.0\n"
     ]
    }
   ],
   "source": [
    "# Validação - Recall\n",
    "print(recall_score(y_validacao,pred_Arvore_val))"
   ]
  },
  {
   "cell_type": "code",
   "execution_count": 604,
   "metadata": {},
   "outputs": [
    {
     "name": "stdout",
     "output_type": "stream",
     "text": [
      "1.0\n"
     ]
    }
   ],
   "source": [
    "# Validação cruzada - Precisão\n",
    "validacao_cruzada_a = cross_val_predict(clfArvore, x, y, cv=10)\n",
    "print(accuracy_score(y, validacao_cruzada_a))"
   ]
  },
  {
   "cell_type": "markdown",
   "metadata": {},
   "source": [
    "# 2.3 Rede Neural (Multilayer Perceptron - MLP)"
   ]
  },
  {
   "cell_type": "code",
   "execution_count": 605,
   "metadata": {},
   "outputs": [],
   "source": [
    "rnMLP = MLPClassifier(hidden_layer_sizes=(100, 100))"
   ]
  },
  {
   "cell_type": "code",
   "execution_count": 606,
   "metadata": {},
   "outputs": [],
   "source": [
    "# Fit do modelo\n",
    "rnMLP = rnMLP.fit(X_treino, y_treino)"
   ]
  },
  {
   "cell_type": "code",
   "execution_count": 607,
   "metadata": {},
   "outputs": [],
   "source": [
    "# Predicão\n",
    "pred_MLP = rnMLP.predict(X_teste)"
   ]
  },
  {
   "cell_type": "code",
   "execution_count": 608,
   "metadata": {},
   "outputs": [
    {
     "name": "stdout",
     "output_type": "stream",
     "text": [
      "0.9990423175914287\n"
     ]
    }
   ],
   "source": [
    "# Acurácia\n",
    "print(accuracy_score(y_teste,pred_MLP))"
   ]
  },
  {
   "cell_type": "code",
   "execution_count": 609,
   "metadata": {},
   "outputs": [
    {
     "name": "stdout",
     "output_type": "stream",
     "text": [
      "0.998278088678433\n"
     ]
    }
   ],
   "source": [
    "# Precisão\n",
    "print(precision_score(y_teste,pred_MLP))"
   ]
  },
  {
   "cell_type": "code",
   "execution_count": 610,
   "metadata": {},
   "outputs": [
    {
     "name": "stdout",
     "output_type": "stream",
     "text": [
      "1.0\n"
     ]
    }
   ],
   "source": [
    "# Recall\n",
    "print(recall_score(y_teste,pred_MLP)) "
   ]
  },
  {
   "cell_type": "code",
   "execution_count": 611,
   "metadata": {},
   "outputs": [
    {
     "name": "stdout",
     "output_type": "stream",
     "text": [
      "0.999138302455838\n"
     ]
    }
   ],
   "source": [
    "# F1 score\n",
    "print(f1_score(y_teste, pred_MLP))"
   ]
  },
  {
   "cell_type": "code",
   "execution_count": 612,
   "metadata": {},
   "outputs": [
    {
     "data": {
      "text/plain": [
       "Text(0.5, 1.0, 'Matriz de Confusão')"
      ]
     },
     "execution_count": 612,
     "metadata": {},
     "output_type": "execute_result"
    },
    {
     "data": {
      "image/png": "[encoded data removed]",
      "text/plain": [
       "<Figure size 640x480 with 2 Axes>"
      ]
     },
     "metadata": {},
     "output_type": "display_data"
    }
   ],
   "source": [
    "# Calcula a matriz de confusão\n",
    "cmmlp = confusion_matrix(y_teste, pred_MLP)\n",
    "\n",
    "# Define rótulos para os eixos\n",
    "labels = ['Positivo', 'Negativo']\n",
    "\n",
    "# Cria o mapa de cor da matriz\n",
    "sns.heatmap(cmmlp, annot=True, cmap=\"Greens\", fmt=\"d\", xticklabels=labels, yticklabels=labels)\n",
    "\n",
    "# Adiciona eixos e title\n",
    "plt.xlabel(\"Previsto\")\n",
    "plt.ylabel(\"Verdadeiro\")\n",
    "plt.title(\"Matriz de Confusão\")"
   ]
  },
  {
   "cell_type": "markdown",
   "metadata": {},
   "source": [
    "# 2.4 Logistic Regression (Regressão Logística)"
   ]
  },
  {
   "cell_type": "code",
   "execution_count": 613,
   "metadata": {},
   "outputs": [],
   "source": [
    "clfLog = LogisticRegression(penalty='l2', random_state=0, max_iter=100, solver='lbfgs')"
   ]
  },
  {
   "cell_type": "code",
   "execution_count": 614,
   "metadata": {},
   "outputs": [],
   "source": [
    "# Fit do modelo\n",
    "clfLog = clfLog.fit(X_treino, y_treino)"
   ]
  },
  {
   "cell_type": "code",
   "execution_count": 615,
   "metadata": {},
   "outputs": [],
   "source": [
    "# Predicão\n",
    "pred_Log = clfLog.predict(X_teste)"
   ]
  },
  {
   "cell_type": "code",
   "execution_count": 616,
   "metadata": {},
   "outputs": [
    {
     "name": "stdout",
     "output_type": "stream",
     "text": [
      "0.9794696833662536\n"
     ]
    }
   ],
   "source": [
    "# Acurácia\n",
    "print(accuracy_score(y_teste,pred_Log))"
   ]
  },
  {
   "cell_type": "code",
   "execution_count": 617,
   "metadata": {},
   "outputs": [
    {
     "name": "stdout",
     "output_type": "stream",
     "text": [
      "0.9653088863423274\n"
     ]
    }
   ],
   "source": [
    "# Precisão\n",
    "print(precision_score(y_teste,pred_Log))"
   ]
  },
  {
   "cell_type": "code",
   "execution_count": 618,
   "metadata": {},
   "outputs": [
    {
     "name": "stdout",
     "output_type": "stream",
     "text": [
      "0.9989219491159983\n"
     ]
    }
   ],
   "source": [
    "# Recall\n",
    "print(recall_score(y_teste,pred_Log)) "
   ]
  },
  {
   "cell_type": "code",
   "execution_count": 619,
   "metadata": {},
   "outputs": [
    {
     "name": "stdout",
     "output_type": "stream",
     "text": [
      "0.9818278145695365\n"
     ]
    }
   ],
   "source": [
    "# F1 score\n",
    "print(f1_score(y_teste, pred_Log))"
   ]
  },
  {
   "cell_type": "code",
   "execution_count": 620,
   "metadata": {},
   "outputs": [
    {
     "data": {
      "image/png": "[encoded data removed]",
      "text/plain": [
       "<Figure size 640x480 with 2 Axes>"
      ]
     },
     "metadata": {},
     "output_type": "display_data"
    }
   ],
   "source": [
    "# Calcula a matriz de confusão\n",
    "cmrl = confusion_matrix(y_teste, pred_Log)\n",
    "\n",
    "# Define rótulos para os eixos\n",
    "labels = ['Positivo', 'Negativo']\n",
    "\n",
    "# Cria o mapa de cor da matriz\n",
    "sns.heatmap(cmrl, annot=True, cmap=\"Greens\", fmt=\"d\", xticklabels=labels, yticklabels=labels)\n",
    "\n",
    "# Adiciona eixos e title\n",
    "plt.xlabel(\"Previsto\")\n",
    "plt.ylabel(\"Verdadeiro\")\n",
    "plt.title(\"Matriz de Confusão\")\n",
    "plt.show()"
   ]
  },
  {
   "cell_type": "code",
   "execution_count": 621,
   "metadata": {},
   "outputs": [],
   "source": [
    "# Validação - Predicão\n",
    "pred_Log_val = clfLog.predict(X_validacao)"
   ]
  },
  {
   "cell_type": "code",
   "execution_count": 622,
   "metadata": {},
   "outputs": [
    {
     "name": "stdout",
     "output_type": "stream",
     "text": [
      "0.9797689591189321\n"
     ]
    }
   ],
   "source": [
    "# Validação - Acurácia\n",
    "print(accuracy_score(y_validacao, pred_Log_val))"
   ]
  },
  {
   "cell_type": "code",
   "execution_count": 623,
   "metadata": {},
   "outputs": [
    {
     "name": "stdout",
     "output_type": "stream",
     "text": [
      "0.9662218515429525\n"
     ]
    }
   ],
   "source": [
    "# Validação - Precisão\n",
    "print(precision_score(y_validacao,pred_Log_val))"
   ]
  },
  {
   "cell_type": "code",
   "execution_count": 624,
   "metadata": {},
   "outputs": [
    {
     "name": "stdout",
     "output_type": "stream",
     "text": [
      "0.9984917043740573\n"
     ]
    }
   ],
   "source": [
    "# Validação - Recall\n",
    "print(recall_score(y_validacao, pred_Log_val)) "
   ]
  },
  {
   "cell_type": "code",
   "execution_count": 625,
   "metadata": {},
   "outputs": [
    {
     "name": "stdout",
     "output_type": "stream",
     "text": [
      "0.9753992386333709\n"
     ]
    }
   ],
   "source": [
    "# Validação cruzada - Precisão\n",
    "validacao_cruzada_rl = cross_val_predict(clfLog, x, y, cv=10)\n",
    "print(accuracy_score(y, validacao_cruzada_rl))"
   ]
  },
  {
   "cell_type": "markdown",
   "metadata": {},
   "source": [
    "# 3. Avaliação"
   ]
  },
  {
   "cell_type": "markdown",
   "metadata": {},
   "source": []
  }
 ],
 "metadata": {
  "kernelspec": {
   "display_name": "Python 3 (ipykernel)",
   "language": "python",
   "name": "python3"
  },
  "language_info": {
   "codemirror_mode": {
    "name": "ipython",
    "version": 3
   },
   "file_extension": ".py",
   "mimetype": "text/x-python",
   "name": "python",
   "nbconvert_exporter": "python",
   "pygments_lexer": "ipython3",
   "version": "3.11.7"
  }
 },
 "nbformat": 4,
 "nbformat_minor": 4
}
