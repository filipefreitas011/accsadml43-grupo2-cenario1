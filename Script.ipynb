import pandas as pd
import numpy as np
import seaborn as sns
import matplotlib.pyplot as plt

# Carregar o arquivo CSV
dengue = pd.read_csv('dengue_sinan.csv')

# Filtragem de colunas nulas
vetor_colunas_nulas = dengue.isna().mean()

colunas_faltantes = vetor_colunas_nulas[vetor_colunas_nulas >= 0.70].index

dengue_filtrada = dengue.drop(columns=colunas_faltantes)

# Matrix de correlação e gráfico de correlação
colunas_numericas = dengue_filtrada.select_dtypes(include=[np.number]).columns

sem_faltantes = dengue_filtrada[colunas_numericas].dropna()

matrix_correlacao = sem_faltantes.corr()

# Plot do gráfico de correlação
plt.figure(figsize=(10, 8))
sns.heatmap(matrix_correlacao, annot=True, cmap='coolwarm', fmt='.2f')
plt.title('Matriz de Correlação')
plt.show()

# Normalizar variáveis
variaveis_normalizada = (sem_faltantes - sem_faltantes.mean()) / sem_faltantes.std()

dados_normalizados = variaveis_normalizada.copy()

print(dados_normalizados.head())
